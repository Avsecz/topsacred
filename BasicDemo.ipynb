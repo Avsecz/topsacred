{
 "cells": [
  {
   "cell_type": "code",
   "execution_count": 1,
   "metadata": {
    "collapsed": false
   },
   "outputs": [
    {
     "data": {
      "text/html": [
       "<style>\n",
       "    .dataframe * {border-color: #c0c0c0 !important;}\n",
       "    .dataframe th{background: #e8e8e8;}\n",
       "    .dataframe thead th {text-align: center;}\n",
       "    .dataframe td{\n",
       "        background: #fff;\n",
       "        text-align: right;\n",
       "        min-width:5em;\n",
       "    }\n",
       "    .dataframe tr:nth-child(even) td{background: #f0f0f0;}\n",
       "    .dataframe tr:nth-child(even) th{background: #e0e0e0;}\n",
       "    .dataframe thead th:first-child{\n",
       "        background: #fff;\n",
       "        border-top-color: #fff !important;\n",
       "        border-left-color: #fff !important;\n",
       "        border-bottom-color: #fff !important;\n",
       "    }\n",
       "    .dataframe thead tr:last-child th:first-child{\n",
       "        border-bottom-color: #c0c0c0 !important;\n",
       "    }\n",
       "</style>"
      ],
      "text/plain": [
       "<IPython.core.display.HTML object>"
      ]
     },
     "metadata": {},
     "output_type": "display_data"
    }
   ],
   "source": [
    "from topsacred import *\n",
    "from pandas.io.json import json_normalize"
   ]
  },
  {
   "cell_type": "code",
   "execution_count": 9,
   "metadata": {
    "collapsed": false
   },
   "outputs": [
    {
     "data": {
      "text/html": [
       "<div>\n",
       "<table border=\"1\" class=\"dataframe\">\n",
       "  <thead>\n",
       "    <tr style=\"text-align: right;\">\n",
       "      <th></th>\n",
       "      <th>TOTAL</th>\n",
       "      <th>INTERRUPTED</th>\n",
       "      <th>COMPLETED</th>\n",
       "    </tr>\n",
       "  </thead>\n",
       "  <tbody>\n",
       "    <tr>\n",
       "      <th>advers.study1</th>\n",
       "      <td>5</td>\n",
       "      <td>0</td>\n",
       "      <td>5</td>\n",
       "    </tr>\n",
       "    <tr>\n",
       "      <th>advers.study2</th>\n",
       "      <td>5</td>\n",
       "      <td>0</td>\n",
       "      <td>5</td>\n",
       "    </tr>\n",
       "    <tr>\n",
       "      <th>advers.study3</th>\n",
       "      <td>5</td>\n",
       "      <td>0</td>\n",
       "      <td>5</td>\n",
       "    </tr>\n",
       "    <tr>\n",
       "      <th>advers.study4</th>\n",
       "      <td>5</td>\n",
       "      <td>0</td>\n",
       "      <td>5</td>\n",
       "    </tr>\n",
       "    <tr>\n",
       "      <th>advers.study_one_layer</th>\n",
       "      <td>41</td>\n",
       "      <td>1</td>\n",
       "      <td>40</td>\n",
       "    </tr>\n",
       "    <tr>\n",
       "      <th>advers.study_two_layer</th>\n",
       "      <td>90</td>\n",
       "      <td>0</td>\n",
       "      <td>90</td>\n",
       "    </tr>\n",
       "    <tr>\n",
       "      <th>labwatch_branin.default</th>\n",
       "      <td>3</td>\n",
       "      <td>0</td>\n",
       "      <td>3</td>\n",
       "    </tr>\n",
       "  </tbody>\n",
       "</table>\n",
       "</div>"
      ],
      "text/plain": [
       "                         TOTAL  INTERRUPTED  COMPLETED\n",
       "advers.study1                5            0          5\n",
       "advers.study2                5            0          5\n",
       "advers.study3                5            0          5\n",
       "advers.study4                5            0          5\n",
       "advers.study_one_layer      41            1         40\n",
       "advers.study_two_layer      90            0         90\n",
       "labwatch_branin.default      3            0          3"
      ]
     },
     "execution_count": 9,
     "metadata": {},
     "output_type": "execute_result"
    }
   ],
   "source": [
    "ss = sacred_stats()\n",
    "ss"
   ]
  },
  {
   "cell_type": "code",
   "execution_count": 3,
   "metadata": {
    "collapsed": false
   },
   "outputs": [],
   "source": [
    "coll = pymongo.MongoClient().advers.study1.runs"
   ]
  },
  {
   "cell_type": "code",
   "execution_count": 26,
   "metadata": {
    "collapsed": false
   },
   "outputs": [
    {
     "data": {
      "text/plain": [
       "0.0038242323789745569"
      ]
     },
     "execution_count": 26,
     "metadata": {},
     "output_type": "execute_result"
    }
   ],
   "source": [
    "np.min(r['info']['train_losses'])"
   ]
  },
  {
   "cell_type": "code",
   "execution_count": 27,
   "metadata": {
    "collapsed": true
   },
   "outputs": [],
   "source": [
    "custom_cols = {\n",
    "    'min_train_loss': lambda x: np.min(r['info']['train_losses']),\n",
    "    'max_train_loss': lambda x: np.max(r['info']['train_losses']),\n",
    "}"
   ]
  },
  {
   "cell_type": "code",
   "execution_count": 28,
   "metadata": {
    "collapsed": false
   },
   "outputs": [],
   "source": [
    "all_results = []\n",
    "project = {'config': True, 'result': True}\n",
    "for r in coll.find({}).sort('result'):\n",
    "    entry = {k: v for k, v in r.items() if project.get(k, False)}\n",
    "    for cn, cv in custom_cols.items():\n",
    "        entry[cn] = cv(r)\n",
    "    all_results.append(entry)"
   ]
  },
  {
   "cell_type": "code",
   "execution_count": 29,
   "metadata": {
    "collapsed": false
   },
   "outputs": [
    {
     "data": {
      "text/plain": [
       "[{'config': {'input_dim': 2,\n",
       "   'learn_rate': 0.03,\n",
       "   'max_epochs': 1000,\n",
       "   'net1': {'act': 'tanh',\n",
       "    'delta': 0.0,\n",
       "    'init': 0.1,\n",
       "    'sizes': [2],\n",
       "    'type': 'plain'},\n",
       "   'net2': {'act': 'tanh',\n",
       "    'delta': 1.0,\n",
       "    'init': 1.0,\n",
       "    'sizes': [2],\n",
       "    'type': 'plain'},\n",
       "   'nr_datapoints': 1000,\n",
       "   'nr_runs': 100,\n",
       "   'seed': 41302143},\n",
       "  'max_train_loss': 1.0324487686157227,\n",
       "  'min_train_loss': 3.7191196540357126e-15,\n",
       "  'result': 2.6897025535979807e-14},\n",
       " {'config': {'input_dim': 2,\n",
       "   'learn_rate': 0.03,\n",
       "   'max_epochs': 1000,\n",
       "   'net1': {'act': 'tanh',\n",
       "    'delta': 0.0,\n",
       "    'init': 0.5,\n",
       "    'sizes': [2],\n",
       "    'type': 'plain'},\n",
       "   'net2': {'act': 'tanh',\n",
       "    'delta': 1.0,\n",
       "    'init': 1.0,\n",
       "    'sizes': [2],\n",
       "    'type': 'plain'},\n",
       "   'nr_datapoints': 1000,\n",
       "   'nr_runs': 100,\n",
       "   'seed': 504127507},\n",
       "  'max_train_loss': 2.1973779201507568,\n",
       "  'min_train_loss': 1.256716085362708e-13,\n",
       "  'result': 1.4602496630958642e-10},\n",
       " {'config': {'input_dim': 2,\n",
       "   'learn_rate': 0.03,\n",
       "   'max_epochs': 1000,\n",
       "   'net1': {'act': 'tanh',\n",
       "    'delta': 0.0,\n",
       "    'init': 1.0,\n",
       "    'sizes': [2],\n",
       "    'type': 'plain'},\n",
       "   'net2': {'act': 'tanh',\n",
       "    'delta': 1.0,\n",
       "    'init': 1.0,\n",
       "    'sizes': [2],\n",
       "    'type': 'plain'},\n",
       "   'nr_datapoints': 1000,\n",
       "   'nr_runs': 100,\n",
       "   'seed': 498192256},\n",
       "  'max_train_loss': 2.6217761039733887,\n",
       "  'min_train_loss': 7.5527621266543998e-13,\n",
       "  'result': 2.5839877721976295e-05},\n",
       " {'config': {'input_dim': 2,\n",
       "   'learn_rate': 0.03,\n",
       "   'max_epochs': 1000,\n",
       "   'net1': {'act': 'tanh',\n",
       "    'delta': 0.0,\n",
       "    'init': 2.0,\n",
       "    'sizes': [2],\n",
       "    'type': 'plain'},\n",
       "   'net2': {'act': 'tanh',\n",
       "    'delta': 1.0,\n",
       "    'init': 1.0,\n",
       "    'sizes': [2],\n",
       "    'type': 'plain'},\n",
       "   'nr_datapoints': 1000,\n",
       "   'nr_runs': 100,\n",
       "   'seed': 754726906},\n",
       "  'max_train_loss': 3.6395587921142578,\n",
       "  'min_train_loss': 9.0988596639363095e-06,\n",
       "  'result': 0.003039644666223467},\n",
       " {'config': {'input_dim': 2,\n",
       "   'learn_rate': 0.03,\n",
       "   'max_epochs': 1000,\n",
       "   'net1': {'act': 'tanh',\n",
       "    'delta': 0.0,\n",
       "    'init': 5.0,\n",
       "    'sizes': [2],\n",
       "    'type': 'plain'},\n",
       "   'net2': {'act': 'tanh',\n",
       "    'delta': 1.0,\n",
       "    'init': 1.0,\n",
       "    'sizes': [2],\n",
       "    'type': 'plain'},\n",
       "   'nr_datapoints': 1000,\n",
       "   'nr_runs': 100,\n",
       "   'seed': 713565608},\n",
       "  'max_train_loss': 4.9406418800354004,\n",
       "  'min_train_loss': 0.0038242323789745569,\n",
       "  'result': 0.03539186167297885}]"
      ]
     },
     "execution_count": 29,
     "metadata": {},
     "output_type": "execute_result"
    }
   ],
   "source": [
    "all_results"
   ]
  },
  {
   "cell_type": "code",
   "execution_count": 5,
   "metadata": {
    "collapsed": false
   },
   "outputs": [
    {
     "data": {
      "text/html": [
       "<div>\n",
       "<table border=\"1\" class=\"dataframe\">\n",
       "  <thead>\n",
       "    <tr>\n",
       "      <th></th>\n",
       "      <th>result</th>\n",
       "      <th>input_dim</th>\n",
       "      <th>learn_rate</th>\n",
       "      <th>max_epochs</th>\n",
       "      <th>nr_datapoints</th>\n",
       "      <th>nr_runs</th>\n",
       "      <th>seed</th>\n",
       "      <th colspan=\"5\" halign=\"left\">net1</th>\n",
       "      <th colspan=\"5\" halign=\"left\">net2</th>\n",
       "    </tr>\n",
       "    <tr>\n",
       "      <th></th>\n",
       "      <th></th>\n",
       "      <th></th>\n",
       "      <th></th>\n",
       "      <th></th>\n",
       "      <th></th>\n",
       "      <th></th>\n",
       "      <th></th>\n",
       "      <th>act</th>\n",
       "      <th>delta</th>\n",
       "      <th>init</th>\n",
       "      <th>sizes</th>\n",
       "      <th>type</th>\n",
       "      <th>act</th>\n",
       "      <th>delta</th>\n",
       "      <th>init</th>\n",
       "      <th>sizes</th>\n",
       "      <th>type</th>\n",
       "    </tr>\n",
       "  </thead>\n",
       "  <tbody>\n",
       "    <tr>\n",
       "      <th>0</th>\n",
       "      <td>3.539186e-02</td>\n",
       "      <td>2</td>\n",
       "      <td>0.03</td>\n",
       "      <td>1000</td>\n",
       "      <td>1000</td>\n",
       "      <td>100</td>\n",
       "      <td>713565608</td>\n",
       "      <td>tanh</td>\n",
       "      <td>0</td>\n",
       "      <td>5.0</td>\n",
       "      <td>[2]</td>\n",
       "      <td>plain</td>\n",
       "      <td>tanh</td>\n",
       "      <td>1</td>\n",
       "      <td>1</td>\n",
       "      <td>[2]</td>\n",
       "      <td>plain</td>\n",
       "    </tr>\n",
       "    <tr>\n",
       "      <th>1</th>\n",
       "      <td>3.039645e-03</td>\n",
       "      <td>2</td>\n",
       "      <td>0.03</td>\n",
       "      <td>1000</td>\n",
       "      <td>1000</td>\n",
       "      <td>100</td>\n",
       "      <td>754726906</td>\n",
       "      <td>tanh</td>\n",
       "      <td>0</td>\n",
       "      <td>2.0</td>\n",
       "      <td>[2]</td>\n",
       "      <td>plain</td>\n",
       "      <td>tanh</td>\n",
       "      <td>1</td>\n",
       "      <td>1</td>\n",
       "      <td>[2]</td>\n",
       "      <td>plain</td>\n",
       "    </tr>\n",
       "    <tr>\n",
       "      <th>2</th>\n",
       "      <td>2.583988e-05</td>\n",
       "      <td>2</td>\n",
       "      <td>0.03</td>\n",
       "      <td>1000</td>\n",
       "      <td>1000</td>\n",
       "      <td>100</td>\n",
       "      <td>498192256</td>\n",
       "      <td>tanh</td>\n",
       "      <td>0</td>\n",
       "      <td>1.0</td>\n",
       "      <td>[2]</td>\n",
       "      <td>plain</td>\n",
       "      <td>tanh</td>\n",
       "      <td>1</td>\n",
       "      <td>1</td>\n",
       "      <td>[2]</td>\n",
       "      <td>plain</td>\n",
       "    </tr>\n",
       "    <tr>\n",
       "      <th>3</th>\n",
       "      <td>1.460250e-10</td>\n",
       "      <td>2</td>\n",
       "      <td>0.03</td>\n",
       "      <td>1000</td>\n",
       "      <td>1000</td>\n",
       "      <td>100</td>\n",
       "      <td>504127507</td>\n",
       "      <td>tanh</td>\n",
       "      <td>0</td>\n",
       "      <td>0.5</td>\n",
       "      <td>[2]</td>\n",
       "      <td>plain</td>\n",
       "      <td>tanh</td>\n",
       "      <td>1</td>\n",
       "      <td>1</td>\n",
       "      <td>[2]</td>\n",
       "      <td>plain</td>\n",
       "    </tr>\n",
       "    <tr>\n",
       "      <th>4</th>\n",
       "      <td>2.689703e-14</td>\n",
       "      <td>2</td>\n",
       "      <td>0.03</td>\n",
       "      <td>1000</td>\n",
       "      <td>1000</td>\n",
       "      <td>100</td>\n",
       "      <td>41302143</td>\n",
       "      <td>tanh</td>\n",
       "      <td>0</td>\n",
       "      <td>0.1</td>\n",
       "      <td>[2]</td>\n",
       "      <td>plain</td>\n",
       "      <td>tanh</td>\n",
       "      <td>1</td>\n",
       "      <td>1</td>\n",
       "      <td>[2]</td>\n",
       "      <td>plain</td>\n",
       "    </tr>\n",
       "  </tbody>\n",
       "</table>\n",
       "</div>"
      ],
      "text/plain": [
       "         result input_dim learn_rate max_epochs nr_datapoints nr_runs  \\\n",
       "                                                                        \n",
       "0  3.539186e-02         2       0.03       1000          1000     100   \n",
       "1  3.039645e-03         2       0.03       1000          1000     100   \n",
       "2  2.583988e-05         2       0.03       1000          1000     100   \n",
       "3  1.460250e-10         2       0.03       1000          1000     100   \n",
       "4  2.689703e-14         2       0.03       1000          1000     100   \n",
       "\n",
       "        seed  net1                          net2                          \n",
       "               act delta init sizes   type   act delta init sizes   type  \n",
       "0  713565608  tanh     0  5.0   [2]  plain  tanh     1    1   [2]  plain  \n",
       "1  754726906  tanh     0  2.0   [2]  plain  tanh     1    1   [2]  plain  \n",
       "2  498192256  tanh     0  1.0   [2]  plain  tanh     1    1   [2]  plain  \n",
       "3  504127507  tanh     0  0.5   [2]  plain  tanh     1    1   [2]  plain  \n",
       "4   41302143  tanh     0  0.1   [2]  plain  tanh     1    1   [2]  plain  "
      ]
     },
     "execution_count": 5,
     "metadata": {},
     "output_type": "execute_result"
    }
   ],
   "source": [
    "df = get_results(coll)\n",
    "df"
   ]
  },
  {
   "cell_type": "code",
   "execution_count": 6,
   "metadata": {
    "collapsed": false
   },
   "outputs": [],
   "source": [
    "import qgrid\n",
    "qgrid.nbinstall(overwrite=True)\n"
   ]
  },
  {
   "cell_type": "code",
   "execution_count": 35,
   "metadata": {
    "collapsed": false
   },
   "outputs": [
    {
     "name": "stderr",
     "output_type": "stream",
     "text": [
      "/home/greff/venv/py3/lib/python3.4/site-packages/pandas/io/data.py:33: FutureWarning: \n",
      "The pandas.io.data module is moved to a separate package (pandas-datareader) and will be removed from pandas in a future version.\n",
      "After installing the pandas-datareader package (https://github.com/pydata/pandas-datareader), you can change the import ``from pandas.io import data, wb`` to ``from pandas_datareader import data, wb``.\n",
      "  FutureWarning)\n"
     ]
    }
   ],
   "source": [
    "import pandas as pd\n",
    "import numpy as np\n",
    "randn = np.random.randn\n",
    "\n",
    "# Set this pandas option to prevent the grid from being too big\n",
    "pd.set_option('display.max_rows', 8)\n",
    "\n",
    "# Get a pandas DataFrame containing the daily prices for the S&P 500 from 1/1/2011 - 1/1/2014\n",
    "from pandas.io.data import get_data_yahoo\n",
    "spy = get_data_yahoo(\n",
    "    symbols='SPY',  \n",
    "    start=pd.Timestamp('2011-01-01'),  \n",
    "    end=pd.Timestamp('2014-01-01'),\n",
    "    adjust_price=True,\n",
    ")"
   ]
  },
  {
   "cell_type": "code",
   "execution_count": 36,
   "metadata": {
    "collapsed": false
   },
   "outputs": [
    {
     "data": {
      "text/html": [
       "<div>\n",
       "<table border=\"1\" class=\"dataframe\">\n",
       "  <thead>\n",
       "    <tr style=\"text-align: right;\">\n",
       "      <th></th>\n",
       "      <th>Open</th>\n",
       "      <th>High</th>\n",
       "      <th>Low</th>\n",
       "      <th>Close</th>\n",
       "      <th>Volume</th>\n",
       "      <th>Adj_Ratio</th>\n",
       "    </tr>\n",
       "    <tr>\n",
       "      <th>Date</th>\n",
       "      <th></th>\n",
       "      <th></th>\n",
       "      <th></th>\n",
       "      <th></th>\n",
       "      <th></th>\n",
       "      <th></th>\n",
       "    </tr>\n",
       "  </thead>\n",
       "  <tbody>\n",
       "    <tr>\n",
       "      <th>2011-01-03</th>\n",
       "      <td>113.782936</td>\n",
       "      <td>114.582137</td>\n",
       "      <td>112.875976</td>\n",
       "      <td>114.088253</td>\n",
       "      <td>138725200</td>\n",
       "      <td>0.897979</td>\n",
       "    </tr>\n",
       "    <tr>\n",
       "      <th>2011-01-04</th>\n",
       "      <td>114.339686</td>\n",
       "      <td>114.375606</td>\n",
       "      <td>113.315990</td>\n",
       "      <td>114.025394</td>\n",
       "      <td>137409700</td>\n",
       "      <td>0.897979</td>\n",
       "    </tr>\n",
       "    <tr>\n",
       "      <th>2011-01-05</th>\n",
       "      <td>113.666202</td>\n",
       "      <td>114.689897</td>\n",
       "      <td>113.558442</td>\n",
       "      <td>114.618057</td>\n",
       "      <td>133975300</td>\n",
       "      <td>0.897979</td>\n",
       "    </tr>\n",
       "    <tr>\n",
       "      <th>2011-01-06</th>\n",
       "      <td>114.662958</td>\n",
       "      <td>114.788676</td>\n",
       "      <td>114.052333</td>\n",
       "      <td>114.393562</td>\n",
       "      <td>122519000</td>\n",
       "      <td>0.897979</td>\n",
       "    </tr>\n",
       "    <tr>\n",
       "      <th>...</th>\n",
       "      <td>...</td>\n",
       "      <td>...</td>\n",
       "      <td>...</td>\n",
       "      <td>...</td>\n",
       "      <td>...</td>\n",
       "      <td>...</td>\n",
       "    </tr>\n",
       "    <tr>\n",
       "      <th>2013-12-26</th>\n",
       "      <td>175.286319</td>\n",
       "      <td>175.879094</td>\n",
       "      <td>175.267208</td>\n",
       "      <td>175.783481</td>\n",
       "      <td>63365000</td>\n",
       "      <td>0.956072</td>\n",
       "    </tr>\n",
       "    <tr>\n",
       "      <th>2013-12-27</th>\n",
       "      <td>176.012944</td>\n",
       "      <td>176.089417</td>\n",
       "      <td>175.592270</td>\n",
       "      <td>175.773926</td>\n",
       "      <td>61814000</td>\n",
       "      <td>0.956072</td>\n",
       "    </tr>\n",
       "    <tr>\n",
       "      <th>2013-12-30</th>\n",
       "      <td>175.793037</td>\n",
       "      <td>175.936457</td>\n",
       "      <td>175.515783</td>\n",
       "      <td>175.745245</td>\n",
       "      <td>56857000</td>\n",
       "      <td>0.956072</td>\n",
       "    </tr>\n",
       "    <tr>\n",
       "      <th>2013-12-31</th>\n",
       "      <td>175.984263</td>\n",
       "      <td>176.577023</td>\n",
       "      <td>175.850399</td>\n",
       "      <td>176.577023</td>\n",
       "      <td>86119900</td>\n",
       "      <td>0.956072</td>\n",
       "    </tr>\n",
       "  </tbody>\n",
       "</table>\n",
       "<p>754 rows × 6 columns</p>\n",
       "</div>"
      ],
      "text/plain": [
       "                  Open        High         Low       Close     Volume  \\\n",
       "Date                                                                    \n",
       "2011-01-03  113.782936  114.582137  112.875976  114.088253  138725200   \n",
       "2011-01-04  114.339686  114.375606  113.315990  114.025394  137409700   \n",
       "2011-01-05  113.666202  114.689897  113.558442  114.618057  133975300   \n",
       "2011-01-06  114.662958  114.788676  114.052333  114.393562  122519000   \n",
       "...                ...         ...         ...         ...        ...   \n",
       "2013-12-26  175.286319  175.879094  175.267208  175.783481   63365000   \n",
       "2013-12-27  176.012944  176.089417  175.592270  175.773926   61814000   \n",
       "2013-12-30  175.793037  175.936457  175.515783  175.745245   56857000   \n",
       "2013-12-31  175.984263  176.577023  175.850399  176.577023   86119900   \n",
       "\n",
       "            Adj_Ratio  \n",
       "Date                   \n",
       "2011-01-03   0.897979  \n",
       "2011-01-04   0.897979  \n",
       "2011-01-05   0.897979  \n",
       "2011-01-06   0.897979  \n",
       "...               ...  \n",
       "2013-12-26   0.956072  \n",
       "2013-12-27   0.956072  \n",
       "2013-12-30   0.956072  \n",
       "2013-12-31   0.956072  \n",
       "\n",
       "[754 rows x 6 columns]"
      ]
     },
     "execution_count": 36,
     "metadata": {},
     "output_type": "execute_result"
    }
   ],
   "source": [
    "spy"
   ]
  },
  {
   "cell_type": "code",
   "execution_count": 48,
   "metadata": {
    "collapsed": true
   },
   "outputs": [],
   "source": [
    "qgrid.show_grid(spy)"
   ]
  },
  {
   "cell_type": "code",
   "execution_count": 10,
   "metadata": {
    "collapsed": false
   },
   "outputs": [],
   "source": [
    "qgrid.show_grid(ss)"
   ]
  },
  {
   "cell_type": "code",
   "execution_count": 12,
   "metadata": {
    "collapsed": false
   },
   "outputs": [],
   "source": [
    "ddf = df[['input_dim', 'result']]"
   ]
  },
  {
   "cell_type": "code",
   "execution_count": 14,
   "metadata": {
    "collapsed": false
   },
   "outputs": [],
   "source": [
    "df.columns = [' '.join(col).strip() for col in df.columns.values]"
   ]
  },
  {
   "cell_type": "code",
   "execution_count": 15,
   "metadata": {
    "collapsed": false
   },
   "outputs": [
    {
     "data": {
      "text/html": [
       "<div>\n",
       "<table border=\"1\" class=\"dataframe\">\n",
       "  <thead>\n",
       "    <tr style=\"text-align: right;\">\n",
       "      <th></th>\n",
       "      <th>result</th>\n",
       "      <th>input_dim</th>\n",
       "      <th>learn_rate</th>\n",
       "      <th>max_epochs</th>\n",
       "      <th>nr_datapoints</th>\n",
       "      <th>nr_runs</th>\n",
       "      <th>seed</th>\n",
       "      <th>net1 act</th>\n",
       "      <th>net1 delta</th>\n",
       "      <th>net1 init</th>\n",
       "      <th>net1 sizes</th>\n",
       "      <th>net1 type</th>\n",
       "      <th>net2 act</th>\n",
       "      <th>net2 delta</th>\n",
       "      <th>net2 init</th>\n",
       "      <th>net2 sizes</th>\n",
       "      <th>net2 type</th>\n",
       "    </tr>\n",
       "  </thead>\n",
       "  <tbody>\n",
       "    <tr>\n",
       "      <th>0</th>\n",
       "      <td>3.539186e-02</td>\n",
       "      <td>2</td>\n",
       "      <td>0.03</td>\n",
       "      <td>1000</td>\n",
       "      <td>1000</td>\n",
       "      <td>100</td>\n",
       "      <td>713565608</td>\n",
       "      <td>tanh</td>\n",
       "      <td>0</td>\n",
       "      <td>5.0</td>\n",
       "      <td>[2]</td>\n",
       "      <td>plain</td>\n",
       "      <td>tanh</td>\n",
       "      <td>1</td>\n",
       "      <td>1</td>\n",
       "      <td>[2]</td>\n",
       "      <td>plain</td>\n",
       "    </tr>\n",
       "    <tr>\n",
       "      <th>1</th>\n",
       "      <td>3.039645e-03</td>\n",
       "      <td>2</td>\n",
       "      <td>0.03</td>\n",
       "      <td>1000</td>\n",
       "      <td>1000</td>\n",
       "      <td>100</td>\n",
       "      <td>754726906</td>\n",
       "      <td>tanh</td>\n",
       "      <td>0</td>\n",
       "      <td>2.0</td>\n",
       "      <td>[2]</td>\n",
       "      <td>plain</td>\n",
       "      <td>tanh</td>\n",
       "      <td>1</td>\n",
       "      <td>1</td>\n",
       "      <td>[2]</td>\n",
       "      <td>plain</td>\n",
       "    </tr>\n",
       "    <tr>\n",
       "      <th>2</th>\n",
       "      <td>2.583988e-05</td>\n",
       "      <td>2</td>\n",
       "      <td>0.03</td>\n",
       "      <td>1000</td>\n",
       "      <td>1000</td>\n",
       "      <td>100</td>\n",
       "      <td>498192256</td>\n",
       "      <td>tanh</td>\n",
       "      <td>0</td>\n",
       "      <td>1.0</td>\n",
       "      <td>[2]</td>\n",
       "      <td>plain</td>\n",
       "      <td>tanh</td>\n",
       "      <td>1</td>\n",
       "      <td>1</td>\n",
       "      <td>[2]</td>\n",
       "      <td>plain</td>\n",
       "    </tr>\n",
       "    <tr>\n",
       "      <th>3</th>\n",
       "      <td>1.460250e-10</td>\n",
       "      <td>2</td>\n",
       "      <td>0.03</td>\n",
       "      <td>1000</td>\n",
       "      <td>1000</td>\n",
       "      <td>100</td>\n",
       "      <td>504127507</td>\n",
       "      <td>tanh</td>\n",
       "      <td>0</td>\n",
       "      <td>0.5</td>\n",
       "      <td>[2]</td>\n",
       "      <td>plain</td>\n",
       "      <td>tanh</td>\n",
       "      <td>1</td>\n",
       "      <td>1</td>\n",
       "      <td>[2]</td>\n",
       "      <td>plain</td>\n",
       "    </tr>\n",
       "    <tr>\n",
       "      <th>4</th>\n",
       "      <td>2.689703e-14</td>\n",
       "      <td>2</td>\n",
       "      <td>0.03</td>\n",
       "      <td>1000</td>\n",
       "      <td>1000</td>\n",
       "      <td>100</td>\n",
       "      <td>41302143</td>\n",
       "      <td>tanh</td>\n",
       "      <td>0</td>\n",
       "      <td>0.1</td>\n",
       "      <td>[2]</td>\n",
       "      <td>plain</td>\n",
       "      <td>tanh</td>\n",
       "      <td>1</td>\n",
       "      <td>1</td>\n",
       "      <td>[2]</td>\n",
       "      <td>plain</td>\n",
       "    </tr>\n",
       "  </tbody>\n",
       "</table>\n",
       "</div>"
      ],
      "text/plain": [
       "         result  input_dim  learn_rate  max_epochs  nr_datapoints  nr_runs  \\\n",
       "0  3.539186e-02          2        0.03        1000           1000      100   \n",
       "1  3.039645e-03          2        0.03        1000           1000      100   \n",
       "2  2.583988e-05          2        0.03        1000           1000      100   \n",
       "3  1.460250e-10          2        0.03        1000           1000      100   \n",
       "4  2.689703e-14          2        0.03        1000           1000      100   \n",
       "\n",
       "        seed net1 act  net1 delta  net1 init net1 sizes net1 type net2 act  \\\n",
       "0  713565608     tanh           0        5.0        [2]     plain     tanh   \n",
       "1  754726906     tanh           0        2.0        [2]     plain     tanh   \n",
       "2  498192256     tanh           0        1.0        [2]     plain     tanh   \n",
       "3  504127507     tanh           0        0.5        [2]     plain     tanh   \n",
       "4   41302143     tanh           0        0.1        [2]     plain     tanh   \n",
       "\n",
       "   net2 delta  net2 init net2 sizes net2 type  \n",
       "0           1          1        [2]     plain  \n",
       "1           1          1        [2]     plain  \n",
       "2           1          1        [2]     plain  \n",
       "3           1          1        [2]     plain  \n",
       "4           1          1        [2]     plain  "
      ]
     },
     "execution_count": 15,
     "metadata": {},
     "output_type": "execute_result"
    }
   ],
   "source": [
    "df"
   ]
  },
  {
   "cell_type": "code",
   "execution_count": 16,
   "metadata": {
    "collapsed": true
   },
   "outputs": [],
   "source": [
    "qgrid.show_grid(df)"
   ]
  },
  {
   "cell_type": "code",
   "execution_count": null,
   "metadata": {
    "collapsed": true
   },
   "outputs": [],
   "source": []
  }
 ],
 "metadata": {
  "kernelspec": {
   "display_name": "Python 3",
   "language": "python",
   "name": "python3"
  },
  "language_info": {
   "codemirror_mode": {
    "name": "ipython",
    "version": 3
   },
   "file_extension": ".py",
   "mimetype": "text/x-python",
   "name": "python",
   "nbconvert_exporter": "python",
   "pygments_lexer": "ipython3",
   "version": "3.4.3"
  }
 },
 "nbformat": 4,
 "nbformat_minor": 0
}
